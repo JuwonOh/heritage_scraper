{
 "cells": [
  {
   "cell_type": "code",
   "execution_count": 1,
   "metadata": {},
   "outputs": [],
   "source": [
    "import time\n",
    "import heritage_scraper"
   ]
  },
  {
   "cell_type": "code",
   "execution_count": 2,
   "metadata": {
    "scrolled": true
   },
   "outputs": [
    {
     "name": "stdout",
     "output_type": "stream",
     "text": [
      "23 report_urls for all report\n"
     ]
    }
   ],
   "source": [
    "from heritage_scraper import get_article_urls\n",
    "\n",
    "urls = get_article_urls(begin_page=0, end_page=2, verbose=True)\n",
    "print('%d report_urls for all report' % len(urls))\n"
   ]
  },
  {
   "cell_type": "code",
   "execution_count": 3,
   "metadata": {
    "scrolled": false
   },
   "outputs": [
    {
     "name": "stdout",
     "output_type": "stream",
     "text": [
      "url : https://www.heritage.org/asia/commentary/no-time-artificial-peace-korea ..\n",
      "title : This Is No Time for an Artificial Peace in Korea ..\n",
      "date : 2019-02-06 00:00:00 ..\n",
      "content : \n",
      "“There was never a good war or a bad peace,” Benjamin Franklin purportedly wrote. The maxim certain ..\n",
      "author : Peter  Brookes ..\n",
      "tag : Asia ..\n",
      "\n",
      "\n",
      "url : https://www.heritage.org/defense/commentary/my-north-korea-prediction-2019 ..\n",
      "title : My North Korea Prediction for 2019 ..\n",
      "date : 2018-12-26 00:00:00 ..\n",
      "content : \n",
      "Six months after the Singapore Summit, the United States and North Korea have made no progress on d ..\n",
      "author : Bruce  Klingner ..\n",
      "tag : Defense ..\n",
      "\n",
      "\n",
      "url : https://www.heritage.org/asia/commentary/6-things-trump-should-demand-north-korea ..\n",
      "title : 6 Things Trump Should Demand of North Korea ..\n",
      "date : 2019-02-27 00:00:00 ..\n",
      "content : \n",
      "Since the first U.S.-North Korea summit in Singapore, there has been no progress on North Korean de ..\n",
      "author : Bruce  Klingner ..\n",
      "tag : Asia ..\n",
      "\n",
      "\n",
      "url : https://www.heritage.org/asia/commentary/what-denuclearization-agreement-north-korea-should-include ..\n",
      "title : What a Denuclearization Agreement With North Korea Should Include ..\n",
      "date : 2019-02-27 00:00:00 ..\n",
      "content : \n",
      "North Korean leader Kim Jong Un and President Donald Trump are now meeting in Vietnam. Going into h ..\n",
      "author :  ..\n",
      "tag : Asia ..\n",
      "\n",
      "\n",
      "url : https://www.heritage.org/asia/commentary/trumps-big-challenge-the-upcoming-north-korea-summit ..\n",
      "title : Trump’s Big Challenge at the Upcoming North Korea Summit ..\n",
      "date : 2019-02-22 00:00:00 ..\n",
      "content : \n",
      "In several days’ time, President Donald Trump and North Korean leader Kim Jong Un will meet in Hano ..\n",
      "author : James Jay Carafano ..\n",
      "tag : Asia ..\n",
      "\n",
      "\n",
      "url : https://www.heritage.org/asia/commentary/south-korea-survives-trumps-stress-test ..\n",
      "title : South Korea Survives Trump’s Stress Test ..\n",
      "date : 2019-02-19 00:00:00 ..\n",
      "content : \n",
      "The U.S.-Korea negotiations are over. No, not the U.S.-North Korea denuclearization talks. That sum ..\n",
      "author : James Jay Carafano ..\n",
      "tag : Asia ..\n",
      "\n",
      "\n",
      "url : https://www.heritage.org/asia/report/leveraging-us-law-advocate-human-rights-talks-north-korea ..\n",
      "title : Leveraging U.S. Law to Advocate for Human Rights in Talks with North Korea ..\n",
      "date : 2019-02-22 00:00:00 ..\n",
      "author : Olivia  Enos ..\n",
      "content : \n",
      "\n",
      " Summary\n",
      "\n",
      "            As the U.S. prepares for a second summit with North Korea, President Trump a ..\n",
      "content_url : https://www.heritage.org/sites/default/files/2019-02/BG3388.pdf ..\n",
      "tag : Asia ..\n",
      "\n",
      "\n",
      "url : https://www.heritage.org/defense/commentary/trump-shouldnt-lower-his-guard-north-korea ..\n",
      "title : Trump Shouldn't Lower His Guard on North Korea ..\n",
      "date : 2018-12-13 00:00:00 ..\n",
      "content : \n",
      "Following the Singapore summit, President Donald Trump unilaterally decided to end allied “war game ..\n",
      "author :  ..\n",
      "tag : Defense ..\n",
      "\n",
      "\n",
      "url : https://www.heritage.org/defense/report/second-us-north-korea-summit-must-focus-substance-not-style ..\n",
      "title : Second U.S.–North Korea Summit Must Focus on Substance, Not Style ..\n",
      "date : 2019-02-21 00:00:00 ..\n",
      "author : Bruce Klingner ..\n",
      "content : \n",
      "\n",
      " Summary\n",
      "\n",
      "            To abolish the long-standing North Korean nuclear threat, President Trump me ..\n",
      "content_url : https://www.heritage.org/sites/default/files/2019-02/BG3387.pdf ..\n",
      "tag : Defense ..\n",
      "\n",
      "\n",
      "url : https://www.heritage.org/asia/commentary/why-human-rights-must-be-raised-second-summit-north-korea ..\n",
      "title : Why Human Rights Must Be Raised at a Second Summit With North Korea ..\n",
      "date : 2019-02-11 00:00:00 ..\n",
      "content : \n",
      "President Trump and Kim Jong-un are slated to meet for a second landmark summit on February 27-28.  ..\n",
      "author : Olivia   Enos ..\n",
      "tag : Asia ..\n",
      "\n",
      "\n"
     ]
    }
   ],
   "source": [
    "from heritage_scraper import parse_page\n",
    "def pprint(json_object):\n",
    "    for k, v in json_object.items():\n",
    "        print('{} : {} ..'.format(k, str(v)[:100]))\n",
    "    print('\\n')\n",
    "\n",
    "SLEEP = 0.5\n",
    "\n",
    "   \n",
    "for url in urls[:10]:\n",
    "    rjson_object = parse_page(url)\n",
    "    pprint(rjson_object)"
   ]
  },
  {
   "cell_type": "code",
   "execution_count": 4,
   "metadata": {
    "scrolled": true
   },
   "outputs": [
    {
     "name": "stdout",
     "output_type": "stream",
     "text": [
      "[1 / 10] (2019-02-06 00:00:00) This Is No Time for an Artificial Peace in Korea\n",
      "[2 / 10] (2018-12-26 00:00:00) My North Korea Prediction for 2019\n",
      "[3 / 10] (2019-02-27 00:00:00) 6 Things Trump Should Demand of North Korea\n",
      "[4 / 10] (2019-02-27 00:00:00) What a Denuclearization Agreement With North Korea Should Include\n",
      "[5 / 10] (2019-02-22 00:00:00) Trump’s Big Challenge at the Upcoming North Korea Summit\n",
      "[6 / 10] (2019-02-19 00:00:00) South Korea Survives Trump’s Stress Test\n",
      "[7 / 10] (2019-02-22 00:00:00) Leveraging U.S. Law to Advocate for Human Rights in Talks with North Korea\n",
      "[8 / 10] (2018-12-13 00:00:00) Trump Shouldn't Lower His Guard on North Korea\n",
      "[9 / 10] (2019-02-21 00:00:00) Second U.S.–North Korea Summit Must Focus on Substance, Not Style\n",
      "[10 / 10] (2019-02-11 00:00:00) Why Human Rights Must Be Raised at a Second Summit With North Korea\n"
     ]
    }
   ],
   "source": [
    "from heritage_scraper import yield_latest_article\n",
    "\n",
    "begin_date = '2018-12-01'\n",
    "end_date = '2019-03-31'\n",
    "max_num = 10\n",
    "sleep = 1.0\n",
    "\n",
    "for i, json_obj in enumerate(yield_latest_article(begin_date, end_date, max_num, sleep)):\n",
    "    title = json_obj['title']\n",
    "    time = json_obj['date']\n",
    "    print('[{} / {}] ({}) {}'.format(i+1, max_num, time, title))"
   ]
  }
 ],
 "metadata": {
  "kernelspec": {
   "display_name": "Python 3",
   "language": "python",
   "name": "python3"
  },
  "language_info": {
   "codemirror_mode": {
    "name": "ipython",
    "version": 3
   },
   "file_extension": ".py",
   "mimetype": "text/x-python",
   "name": "python",
   "nbconvert_exporter": "python",
   "pygments_lexer": "ipython3",
   "version": "3.7.1"
  },
  "varInspector": {
   "cols": {
    "lenName": 16,
    "lenType": 16,
    "lenVar": 40
   },
   "kernels_config": {
    "python": {
     "delete_cmd_postfix": "",
     "delete_cmd_prefix": "del ",
     "library": "var_list.py",
     "varRefreshCmd": "print(var_dic_list())"
    },
    "r": {
     "delete_cmd_postfix": ") ",
     "delete_cmd_prefix": "rm(",
     "library": "var_list.r",
     "varRefreshCmd": "cat(var_dic_list()) "
    }
   },
   "oldHeight": 122.545454,
   "position": {
    "height": "40px",
    "left": "1007.45px",
    "right": "20px",
    "top": "139px",
    "width": "250px"
   },
   "types_to_exclude": [
    "module",
    "function",
    "builtin_function_or_method",
    "instance",
    "_Feature"
   ],
   "varInspector_section_display": "none",
   "window_display": true
  }
 },
 "nbformat": 4,
 "nbformat_minor": 2
}
